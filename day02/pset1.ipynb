{
 "cells": [
  {
   "cell_type": "code",
   "execution_count": 1,
   "metadata": {
    "collapsed": false
   },
   "outputs": [],
   "source": [
    "#### RUN ME PLEASE ####\n",
    "\"\"\"Use 'Shift + Enter' when focused on this cell.\"\"\"\n",
    "import numpy as np"
   ]
  },
  {
   "cell_type": "markdown",
   "metadata": {},
   "source": [
    "# Python for DS Practice\n",
    "## Data Science for Kaggle Decal Spring 2017\n",
    "\n",
    "\n",
    "Welcome to the first pset. This should be a really simple intro to numpy. We are structuring it to get you familiar with the tools we will be using for this class. Make sure that you run the first cell before any others otherwise you'll get errors for not including the numpy package.\n",
    "\n",
    "If you have trouble with any question, first consult any old notebooks. Especially those from class today.\n",
    "Then, ask [Piazza](https://piazza.com/class/iy117z6nv30626?cid=9)! We'll try to get back to you asap through there. "
   ]
  },
  {
   "cell_type": "markdown",
   "metadata": {},
   "source": [
    "# Problem 1\n",
    "Fill `fun_array` with values 1-100 using a numpy method. Use google to find the answer."
   ]
  },
  {
   "cell_type": "code",
   "execution_count": 3,
   "metadata": {
    "collapsed": false
   },
   "outputs": [
    {
     "data": {
      "text/plain": [
       "array([  1,   2,   3,   4,   5,   6,   7,   8,   9,  10,  11,  12,  13,\n",
       "        14,  15,  16,  17,  18,  19,  20,  21,  22,  23,  24,  25,  26,\n",
       "        27,  28,  29,  30,  31,  32,  33,  34,  35,  36,  37,  38,  39,\n",
       "        40,  41,  42,  43,  44,  45,  46,  47,  48,  49,  50,  51,  52,\n",
       "        53,  54,  55,  56,  57,  58,  59,  60,  61,  62,  63,  64,  65,\n",
       "        66,  67,  68,  69,  70,  71,  72,  73,  74,  75,  76,  77,  78,\n",
       "        79,  80,  81,  82,  83,  84,  85,  86,  87,  88,  89,  90,  91,\n",
       "        92,  93,  94,  95,  96,  97,  98,  99, 100])"
      ]
     },
     "execution_count": 3,
     "metadata": {},
     "output_type": "execute_result"
    }
   ],
   "source": [
    "fun_array = np.arange(1,101)\n",
    "fun_array"
   ]
  },
  {
   "cell_type": "markdown",
   "metadata": {},
   "source": [
    "# Problem 2 \n",
    "Take the square root of each element in fun_array using numpy commands. Don't use a `for` loop"
   ]
  },
  {
   "cell_type": "code",
   "execution_count": 4,
   "metadata": {
    "collapsed": false
   },
   "outputs": [
    {
     "data": {
      "text/plain": [
       "array([  1.        ,   1.41421356,   1.73205081,   2.        ,\n",
       "         2.23606798,   2.44948974,   2.64575131,   2.82842712,\n",
       "         3.        ,   3.16227766,   3.31662479,   3.46410162,\n",
       "         3.60555128,   3.74165739,   3.87298335,   4.        ,\n",
       "         4.12310563,   4.24264069,   4.35889894,   4.47213595,\n",
       "         4.58257569,   4.69041576,   4.79583152,   4.89897949,\n",
       "         5.        ,   5.09901951,   5.19615242,   5.29150262,\n",
       "         5.38516481,   5.47722558,   5.56776436,   5.65685425,\n",
       "         5.74456265,   5.83095189,   5.91607978,   6.        ,\n",
       "         6.08276253,   6.164414  ,   6.244998  ,   6.32455532,\n",
       "         6.40312424,   6.4807407 ,   6.55743852,   6.63324958,\n",
       "         6.70820393,   6.78232998,   6.8556546 ,   6.92820323,\n",
       "         7.        ,   7.07106781,   7.14142843,   7.21110255,\n",
       "         7.28010989,   7.34846923,   7.41619849,   7.48331477,\n",
       "         7.54983444,   7.61577311,   7.68114575,   7.74596669,\n",
       "         7.81024968,   7.87400787,   7.93725393,   8.        ,\n",
       "         8.06225775,   8.1240384 ,   8.18535277,   8.24621125,\n",
       "         8.30662386,   8.36660027,   8.42614977,   8.48528137,\n",
       "         8.54400375,   8.60232527,   8.66025404,   8.71779789,\n",
       "         8.77496439,   8.83176087,   8.88819442,   8.94427191,\n",
       "         9.        ,   9.05538514,   9.11043358,   9.16515139,\n",
       "         9.21954446,   9.2736185 ,   9.32737905,   9.38083152,\n",
       "         9.43398113,   9.48683298,   9.53939201,   9.59166305,\n",
       "         9.64365076,   9.69535971,   9.74679434,   9.79795897,\n",
       "         9.8488578 ,   9.89949494,   9.94987437,  10.        ])"
      ]
     },
     "execution_count": 4,
     "metadata": {},
     "output_type": "execute_result"
    }
   ],
   "source": [
    "### YOUR CODE HERE\n",
    "fun_array_sqrt = np.sqrt(fun_array)\n",
    "fun_array_sqrt"
   ]
  },
  {
   "cell_type": "markdown",
   "metadata": {},
   "source": [
    "# Problem 3\n",
    "Fill this array with 100 random values. Your answer should use only a single method call like `np.<method>()`"
   ]
  },
  {
   "cell_type": "code",
   "execution_count": 5,
   "metadata": {
    "collapsed": false
   },
   "outputs": [
    {
     "data": {
      "text/plain": [
       "array([-0.36531444,  0.79802135,  0.28041976,  1.8075007 , -0.80548016,\n",
       "        0.09435423,  0.88798677, -1.26002613,  1.08313586,  0.22395736,\n",
       "        2.35375496,  1.59912836, -1.01837835, -0.91185746,  0.02727046,\n",
       "       -1.37198068,  0.79660865, -1.82270126,  1.18942776,  0.51128059,\n",
       "        1.32130559,  1.10702859,  0.59068815, -0.03947826,  0.39046969,\n",
       "        0.69278236, -1.14165347,  0.82961157, -0.25807548, -0.63605049,\n",
       "       -0.96573995, -0.54313383,  0.58130529,  0.24173915,  0.02068782,\n",
       "       -0.42440233,  0.8625635 ,  0.21589587, -0.90882574, -0.71489077,\n",
       "       -0.47157011, -0.67964142, -0.60726502, -0.65164082,  0.5083479 ,\n",
       "        0.29587661, -2.12716753,  1.51025698, -0.40629566,  0.28967191,\n",
       "       -0.65644562,  1.04812068, -0.31047855, -0.10770792,  0.74701046,\n",
       "       -0.80905325, -0.54645661,  1.80855433,  0.66956014, -0.5123114 ,\n",
       "        1.78034898,  0.73355147,  0.42482157,  0.63446349,  0.88745069,\n",
       "       -0.88388163,  0.52515243, -0.33809089, -0.98721592,  0.56746922,\n",
       "        1.73026138,  1.42607377, -0.40175225,  1.22228734,  0.13325474,\n",
       "        0.4752038 , -0.03771246,  0.95632983, -1.70776078,  0.4398414 ,\n",
       "       -0.66776817,  0.86276589,  0.69962845, -0.76305828, -0.0213284 ,\n",
       "       -1.46605314, -0.45228459, -1.03288606,  0.29651496,  0.51678538,\n",
       "       -0.16673811, -0.10794224,  0.15206995,  0.88111537,  1.46631825,\n",
       "       -1.25163274,  0.57057841, -0.33389541, -0.94407612, -0.68050546])"
      ]
     },
     "execution_count": 5,
     "metadata": {},
     "output_type": "execute_result"
    }
   ],
   "source": [
    "random_array = np.random.randn(100)\n",
    "random_array"
   ]
  },
  {
   "cell_type": "markdown",
   "metadata": {},
   "source": [
    "# Problem 4\n",
    "Multiply each element in `random_array` by `5`. Do not use a `for` loop."
   ]
  },
  {
   "cell_type": "code",
   "execution_count": 6,
   "metadata": {
    "collapsed": false
   },
   "outputs": [
    {
     "data": {
      "text/plain": [
       "array([ -1.82657218,   3.99010677,   1.40209882,   9.03750351,\n",
       "        -4.02740078,   0.47177116,   4.43993386,  -6.30013064,\n",
       "         5.41567928,   1.11978679,  11.76877481,   7.99564178,\n",
       "        -5.09189177,  -4.5592873 ,   0.13635232,  -6.85990341,\n",
       "         3.98304324,  -9.11350629,   5.9471388 ,   2.55640293,\n",
       "         6.60652795,   5.53514294,   2.95344074,  -0.19739132,\n",
       "         1.95234845,   3.46391182,  -5.70826735,   4.14805784,\n",
       "        -1.29037739,  -3.18025244,  -4.82869976,  -2.71566915,\n",
       "         2.90652645,   1.20869576,   0.1034391 ,  -2.12201166,\n",
       "         4.3128175 ,   1.07947937,  -4.54412868,  -3.57445386,\n",
       "        -2.35785055,  -3.39820711,  -3.03632508,  -3.25820412,\n",
       "         2.54173949,   1.47938304, -10.63583766,   7.55128491,\n",
       "        -2.03147832,   1.44835957,  -3.28222811,   5.24060342,\n",
       "        -1.55239276,  -0.53853959,   3.73505231,  -4.04526623,\n",
       "        -2.73228306,   9.04277166,   3.34780071,  -2.56155702,\n",
       "         8.90174488,   3.66775734,   2.12410785,   3.17231745,\n",
       "         4.43725347,  -4.41940813,   2.62576216,  -1.69045445,\n",
       "        -4.9360796 ,   2.8373461 ,   8.65130689,   7.13036887,\n",
       "        -2.00876125,   6.11143669,   0.66627369,   2.37601902,\n",
       "        -0.18856231,   4.78164914,  -8.53880388,   2.199207  ,\n",
       "        -3.33884087,   4.31382943,   3.49814226,  -3.81529138,\n",
       "        -0.10664201,  -7.33026571,  -2.26142294,  -5.16443029,\n",
       "         1.4825748 ,   2.58392689,  -0.83369054,  -0.53971121,\n",
       "         0.76034974,   4.40557683,   7.33159126,  -6.2581637 ,\n",
       "         2.85289206,  -1.66947705,  -4.7203806 ,  -3.40252728])"
      ]
     },
     "execution_count": 6,
     "metadata": {},
     "output_type": "execute_result"
    }
   ],
   "source": [
    "random_arrayx5 = 5*random_array\n",
    "random_arrayx5"
   ]
  },
  {
   "cell_type": "markdown",
   "metadata": {},
   "source": [
    "# Problem 5\n",
    "Multiply matrix $X$ and multiply with $\\vec{y}$ using numpy commands. Should be only 1 line."
   ]
  },
  {
   "cell_type": "code",
   "execution_count": 7,
   "metadata": {
    "collapsed": false
   },
   "outputs": [
    {
     "data": {
      "text/plain": [
       "array([14, 32, 50])"
      ]
     },
     "execution_count": 7,
     "metadata": {},
     "output_type": "execute_result"
    }
   ],
   "source": [
    "X = np.array([[1,2,3],[4,5,6],[7,8,9]])\n",
    "y = np.array([1,2,3])\n",
    "X.dot(y)"
   ]
  },
  {
   "cell_type": "markdown",
   "metadata": {},
   "source": [
    "# Problem 6\n",
    "Get the shape of `X` and output it. Do it with and without a print() statement for full credit."
   ]
  },
  {
   "cell_type": "code",
   "execution_count": 9,
   "metadata": {
    "collapsed": false
   },
   "outputs": [
    {
     "name": "stdout",
     "output_type": "stream",
     "text": [
      "(3, 3)\n"
     ]
    },
    {
     "data": {
      "text/plain": [
       "(3, 3)"
      ]
     },
     "execution_count": 9,
     "metadata": {},
     "output_type": "execute_result"
    }
   ],
   "source": [
    "print(X.shape)\n",
    "X.shape"
   ]
  },
  {
   "cell_type": "markdown",
   "metadata": {},
   "source": [
    "# Problem 7\n",
    "Fill in the missing code so that you can plot \n",
    "\n",
    "This is a very simple 2 line problem. You should read [the `matplotlib` documentation](http://matplotlib.org/users/pyplot_tutorial.html) regardless of how familiar you are with matplotlib. \n",
    "\n",
    "Alternatively, google how to plot a graph using matplotlib. You'll probably find an answer on stack overflow\n",
    "\n",
    "I almost always copy and past matplotlib code whenever I need to use it."
   ]
  },
  {
   "cell_type": "code",
   "execution_count": 12,
   "metadata": {
    "collapsed": false
   },
   "outputs": [
    {
     "data": {
      "text/plain": [
       "(0, 5)"
      ]
     },
     "execution_count": 12,
     "metadata": {},
     "output_type": "execute_result"
    },
    {
     "data": {
      "image/png": "[encoded data removed]",
      "text/plain": [
       "<matplotlib.figure.Figure at 0x105b00048>"
      ]
     },
     "metadata": {},
     "output_type": "display_data"
    }
   ],
   "source": [
    "%matplotlib inline\n",
    "import matplotlib.pyplot as plt\n",
    "X = np.linspace(0, 5, 500) #np.arange(500)\n",
    "\n",
    "# These are just to represent actual training and testing \n",
    "training_accuracy = np.exp(-(X)) * np.exp(1.5) + 0.5\n",
    "testing_accuracy = (X - 2.4)**2 + 1\n",
    "\n",
    "### YOUR CODE BELOW ###\n",
    "plt.plot(X,training_accuracy)\n",
    "plt.plot(X,testing_accuracy)\n",
    "### END YOUR CODE ###\n",
    "\n",
    "plt.title(\"Bias Variance\")\n",
    "plt.xlabel(\"Parameter Value \")\n",
    "plt.ylabel(\"Error\")\n",
    "plt.legend(labels=['Training Error','Testing Error'])\n",
    "axes = plt.gca()\n",
    "axes.set_ylim([0,5])"
   ]
  },
  {
   "cell_type": "markdown",
   "metadata": {},
   "source": [
    "# HOMEWORK SUBMISSION\n",
    "We will be submitting work through gradescope. You must make your submission in pdf format so that we can easily process them using gradescope question matching.\n",
    "## Saving the file as a pdf\n",
    "\n",
    "In the menu bar, you simply follow\n",
    "`File > Print Preview` \n",
    "Then print the webpage and Save as PDF. This differs per browser/OS so you may have to spend some time looking for this option to save. \n",
    "\n",
    "## Submitting\n",
    "Go to [gradescope.com](https://gradescope.com/), and click on the box  that says `Add a course`. Type in `9KPPBM` to the course enrollment spot and you should be good to go. If you are not enrolled in the course, we will remove you from gradescope so please only enroll if we have sent you a permission numer. \n",
    "\n",
    "When you are in the course, navigate to `Problem Set 1`. On the submission page, select upload and upload the pdf you just downloaded. You will be required to label your questions appropriately.\n"
   ]
  },
  {
   "cell_type": "code",
   "execution_count": null,
   "metadata": {
    "collapsed": true
   },
   "outputs": [],
   "source": []
  }
 ],
 "metadata": {
  "kernelspec": {
   "display_name": "Python [Root]",
   "language": "python",
   "name": "Python [Root]"
  },
  "language_info": {
   "codemirror_mode": {
    "name": "ipython",
    "version": 3
   },
   "file_extension": ".py",
   "mimetype": "text/x-python",
   "name": "python",
   "nbconvert_exporter": "python",
   "pygments_lexer": "ipython3",
   "version": "3.5.2"
  }
 },
 "nbformat": 4,
 "nbformat_minor": 0
}
